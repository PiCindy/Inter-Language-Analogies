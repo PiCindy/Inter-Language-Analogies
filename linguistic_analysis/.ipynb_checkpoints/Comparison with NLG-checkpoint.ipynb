{
 "cells": [
  {
   "cell_type": "code",
   "execution_count": 1,
   "metadata": {},
   "outputs": [],
   "source": [
    "import nlg\n",
    "from nlg.Vector.Vectors import Vectors"
   ]
  },
  {
   "cell_type": "code",
   "execution_count": null,
   "metadata": {},
   "outputs": [],
   "source": [
    "def create_vectors(file):\n",
    "    sigmorphon_lines = [line.strip() for line in open(file)]\n",
    "\n",
    "    print(f\"# Number of lines: {len(sigmorphon_lines)}\")\n",
    "    for i, elem in enumerate(sigmorphon_lines):\n",
    "        print(f\"\\t{i+1:2}. {elem}\")"
   ]
  }
 ],
 "metadata": {
  "kernelspec": {
   "display_name": "Python 3",
   "language": "python",
   "name": "python3"
  },
  "language_info": {
   "codemirror_mode": {
    "name": "ipython",
    "version": 3
   },
   "file_extension": ".py",
   "mimetype": "text/x-python",
   "name": "python",
   "nbconvert_exporter": "python",
   "pygments_lexer": "ipython3",
   "version": "3.8.10"
  }
 },
 "nbformat": 4,
 "nbformat_minor": 4
}
